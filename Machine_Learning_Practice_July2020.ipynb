{
 "cells": [
  {
   "cell_type": "markdown",
   "metadata": {},
   "source": [
    "# Machine Learning Practice\n",
    "The purpose of this notebook is to practice how to analyze NYSE companies using ML. Being that this is a personal interest of mine, I thought it would be fun to continue improving my analysis skills all while I learn how to become a hedge fund manager. \n",
    "\n",
    "It wouldn't be rigth if I didn't create a fictional company to present my findings to you! Ladies and gents, I give you: ***ToDig Co. est. 2015***\n",
    "\n",
    "**Lets get started !!!!!!!!**\n",
    "\n",
    "# Todo List \n",
    "**(Subject To Change)**\n",
    "- Import Required Libraries \n",
    "- Import Stock Price History of Intel Corporation, QUALCOMM, Inc., and Infineon Technologies AG\n"
   ]
  },
  {
   "cell_type": "code",
   "execution_count": 1,
   "metadata": {},
   "outputs": [],
   "source": [
    "# Data Importing and Manipulation\n",
    "import numpy as np\n",
    "import pandas as pd\n",
    "import matplotlib.pyplot as plt\n",
    "import seaborn as sns\n",
    "from statistics import mean\n",
    "\n",
    "# Stock market Data Library\n",
    "import yfinance as yf\n",
    "\n",
    "\n",
    "# Time series handling \n",
    "import datetime\n",
    "from datetime import date\n",
    "\n"
   ]
  },
  {
   "cell_type": "code",
   "execution_count": 2,
   "metadata": {},
   "outputs": [
    {
     "name": "stdout",
     "output_type": "stream",
     "text": [
      "[*********************100%***********************]  1 of 1 completed\n",
      "[*********************100%***********************]  1 of 1 completed\n",
      "[*********************100%***********************]  1 of 1 completed\n"
     ]
    }
   ],
   "source": [
    "# Downloading historical price data for Intel Corporation, QUALCOMM, Inc., and Infineon Technologies AG\n",
    "hist_INTC = yf.download('INTC')\n",
    "hist_IFNNY = yf.download('IFNNY')\n",
    "hist_QCOM = yf.download('QCOM')"
   ]
  },
  {
   "cell_type": "markdown",
   "metadata": {},
   "source": [
    "# Quick Look\n",
    "Now that we have three companie we want to look into, lets quickly glance at one of the companies to see what we have: columns, rows, dataframe size, etc..."
   ]
  },
  {
   "cell_type": "code",
   "execution_count": 3,
   "metadata": {},
   "outputs": [
    {
     "data": {
      "text/html": [
       "<div>\n",
       "<style scoped>\n",
       "    .dataframe tbody tr th:only-of-type {\n",
       "        vertical-align: middle;\n",
       "    }\n",
       "\n",
       "    .dataframe tbody tr th {\n",
       "        vertical-align: top;\n",
       "    }\n",
       "\n",
       "    .dataframe thead th {\n",
       "        text-align: right;\n",
       "    }\n",
       "</style>\n",
       "<table border=\"1\" class=\"dataframe\">\n",
       "  <thead>\n",
       "    <tr style=\"text-align: right;\">\n",
       "      <th></th>\n",
       "      <th>Open</th>\n",
       "      <th>High</th>\n",
       "      <th>Low</th>\n",
       "      <th>Close</th>\n",
       "      <th>Adj Close</th>\n",
       "      <th>Volume</th>\n",
       "    </tr>\n",
       "    <tr>\n",
       "      <th>Date</th>\n",
       "      <th></th>\n",
       "      <th></th>\n",
       "      <th></th>\n",
       "      <th></th>\n",
       "      <th></th>\n",
       "      <th></th>\n",
       "    </tr>\n",
       "  </thead>\n",
       "  <tbody>\n",
       "    <tr>\n",
       "      <td>1980-03-17</td>\n",
       "      <td>0.325521</td>\n",
       "      <td>0.330729</td>\n",
       "      <td>0.325521</td>\n",
       "      <td>0.325521</td>\n",
       "      <td>0.203600</td>\n",
       "      <td>10924800</td>\n",
       "    </tr>\n",
       "    <tr>\n",
       "      <td>1980-03-18</td>\n",
       "      <td>0.325521</td>\n",
       "      <td>0.328125</td>\n",
       "      <td>0.322917</td>\n",
       "      <td>0.322917</td>\n",
       "      <td>0.201971</td>\n",
       "      <td>17068800</td>\n",
       "    </tr>\n",
       "    <tr>\n",
       "      <td>1980-03-19</td>\n",
       "      <td>0.330729</td>\n",
       "      <td>0.335938</td>\n",
       "      <td>0.330729</td>\n",
       "      <td>0.330729</td>\n",
       "      <td>0.206857</td>\n",
       "      <td>18508800</td>\n",
       "    </tr>\n",
       "    <tr>\n",
       "      <td>1980-03-20</td>\n",
       "      <td>0.330729</td>\n",
       "      <td>0.334635</td>\n",
       "      <td>0.329427</td>\n",
       "      <td>0.329427</td>\n",
       "      <td>0.206043</td>\n",
       "      <td>11174400</td>\n",
       "    </tr>\n",
       "    <tr>\n",
       "      <td>1980-03-21</td>\n",
       "      <td>0.322917</td>\n",
       "      <td>0.322917</td>\n",
       "      <td>0.317708</td>\n",
       "      <td>0.317708</td>\n",
       "      <td>0.198713</td>\n",
       "      <td>12172800</td>\n",
       "    </tr>\n",
       "  </tbody>\n",
       "</table>\n",
       "</div>"
      ],
      "text/plain": [
       "                Open      High       Low     Close  Adj Close    Volume\n",
       "Date                                                                   \n",
       "1980-03-17  0.325521  0.330729  0.325521  0.325521   0.203600  10924800\n",
       "1980-03-18  0.325521  0.328125  0.322917  0.322917   0.201971  17068800\n",
       "1980-03-19  0.330729  0.335938  0.330729  0.330729   0.206857  18508800\n",
       "1980-03-20  0.330729  0.334635  0.329427  0.329427   0.206043  11174400\n",
       "1980-03-21  0.322917  0.322917  0.317708  0.317708   0.198713  12172800"
      ]
     },
     "execution_count": 3,
     "metadata": {},
     "output_type": "execute_result"
    }
   ],
   "source": [
    "hist_INTC.head() # Preview of the imported data"
   ]
  },
  {
   "cell_type": "code",
   "execution_count": 4,
   "metadata": {},
   "outputs": [
    {
     "name": "stdout",
     "output_type": "stream",
     "text": [
      "<class 'pandas.core.frame.DataFrame'>\n",
      "DatetimeIndex: 10173 entries, 1980-03-17 to 2020-07-20\n",
      "Data columns (total 6 columns):\n",
      "Open         10173 non-null float64\n",
      "High         10173 non-null float64\n",
      "Low          10173 non-null float64\n",
      "Close        10173 non-null float64\n",
      "Adj Close    10173 non-null float64\n",
      "Volume       10173 non-null int64\n",
      "dtypes: float64(5), int64(1)\n",
      "memory usage: 556.3 KB\n"
     ]
    }
   ],
   "source": [
    "hist_INTC.info() # Previewing data types of the colums "
   ]
  },
  {
   "cell_type": "code",
   "execution_count": 5,
   "metadata": {},
   "outputs": [
    {
     "data": {
      "text/plain": [
       "pandas.core.indexes.datetimes.DatetimeIndex"
      ]
     },
     "execution_count": 5,
     "metadata": {},
     "output_type": "execute_result"
    }
   ],
   "source": [
    "type(hist_INTC.index) # Prviewing the data type of the index of the data frame to see if it needs to be converted"
   ]
  },
  {
   "cell_type": "code",
   "execution_count": 6,
   "metadata": {},
   "outputs": [
    {
     "data": {
      "text/html": [
       "<div>\n",
       "<style scoped>\n",
       "    .dataframe tbody tr th:only-of-type {\n",
       "        vertical-align: middle;\n",
       "    }\n",
       "\n",
       "    .dataframe tbody tr th {\n",
       "        vertical-align: top;\n",
       "    }\n",
       "\n",
       "    .dataframe thead th {\n",
       "        text-align: right;\n",
       "    }\n",
       "</style>\n",
       "<table border=\"1\" class=\"dataframe\">\n",
       "  <thead>\n",
       "    <tr style=\"text-align: right;\">\n",
       "      <th></th>\n",
       "      <th>Open</th>\n",
       "      <th>High</th>\n",
       "      <th>Low</th>\n",
       "      <th>Close</th>\n",
       "      <th>Adj Close</th>\n",
       "      <th>Volume</th>\n",
       "    </tr>\n",
       "  </thead>\n",
       "  <tbody>\n",
       "    <tr>\n",
       "      <td>count</td>\n",
       "      <td>10173.000000</td>\n",
       "      <td>10173.000000</td>\n",
       "      <td>10173.000000</td>\n",
       "      <td>10173.000000</td>\n",
       "      <td>10173.000000</td>\n",
       "      <td>1.017300e+04</td>\n",
       "    </tr>\n",
       "    <tr>\n",
       "      <td>mean</td>\n",
       "      <td>18.080563</td>\n",
       "      <td>18.331896</td>\n",
       "      <td>17.833449</td>\n",
       "      <td>18.081363</td>\n",
       "      <td>13.901601</td>\n",
       "      <td>5.156794e+07</td>\n",
       "    </tr>\n",
       "    <tr>\n",
       "      <td>std</td>\n",
       "      <td>16.444926</td>\n",
       "      <td>16.682803</td>\n",
       "      <td>16.217631</td>\n",
       "      <td>16.447440</td>\n",
       "      <td>14.222392</td>\n",
       "      <td>3.553472e+07</td>\n",
       "    </tr>\n",
       "    <tr>\n",
       "      <td>min</td>\n",
       "      <td>0.218750</td>\n",
       "      <td>0.218750</td>\n",
       "      <td>0.216146</td>\n",
       "      <td>0.216146</td>\n",
       "      <td>0.135190</td>\n",
       "      <td>0.000000e+00</td>\n",
       "    </tr>\n",
       "    <tr>\n",
       "      <td>25%</td>\n",
       "      <td>1.151042</td>\n",
       "      <td>1.171875</td>\n",
       "      <td>1.130208</td>\n",
       "      <td>1.156250</td>\n",
       "      <td>0.723187</td>\n",
       "      <td>2.731200e+07</td>\n",
       "    </tr>\n",
       "    <tr>\n",
       "      <td>50%</td>\n",
       "      <td>19.350000</td>\n",
       "      <td>19.593750</td>\n",
       "      <td>19.120001</td>\n",
       "      <td>19.360001</td>\n",
       "      <td>12.926133</td>\n",
       "      <td>4.597840e+07</td>\n",
       "    </tr>\n",
       "    <tr>\n",
       "      <td>75%</td>\n",
       "      <td>27.610001</td>\n",
       "      <td>27.950001</td>\n",
       "      <td>27.219999</td>\n",
       "      <td>27.600000</td>\n",
       "      <td>19.629557</td>\n",
       "      <td>6.612960e+07</td>\n",
       "    </tr>\n",
       "    <tr>\n",
       "      <td>max</td>\n",
       "      <td>75.625000</td>\n",
       "      <td>75.828125</td>\n",
       "      <td>73.625000</td>\n",
       "      <td>74.875000</td>\n",
       "      <td>67.751747</td>\n",
       "      <td>5.677088e+08</td>\n",
       "    </tr>\n",
       "  </tbody>\n",
       "</table>\n",
       "</div>"
      ],
      "text/plain": [
       "               Open          High           Low         Close     Adj Close  \\\n",
       "count  10173.000000  10173.000000  10173.000000  10173.000000  10173.000000   \n",
       "mean      18.080563     18.331896     17.833449     18.081363     13.901601   \n",
       "std       16.444926     16.682803     16.217631     16.447440     14.222392   \n",
       "min        0.218750      0.218750      0.216146      0.216146      0.135190   \n",
       "25%        1.151042      1.171875      1.130208      1.156250      0.723187   \n",
       "50%       19.350000     19.593750     19.120001     19.360001     12.926133   \n",
       "75%       27.610001     27.950001     27.219999     27.600000     19.629557   \n",
       "max       75.625000     75.828125     73.625000     74.875000     67.751747   \n",
       "\n",
       "             Volume  \n",
       "count  1.017300e+04  \n",
       "mean   5.156794e+07  \n",
       "std    3.553472e+07  \n",
       "min    0.000000e+00  \n",
       "25%    2.731200e+07  \n",
       "50%    4.597840e+07  \n",
       "75%    6.612960e+07  \n",
       "max    5.677088e+08  "
      ]
     },
     "execution_count": 6,
     "metadata": {},
     "output_type": "execute_result"
    }
   ],
   "source": [
    "hist_INTC.describe() # Previewing the stats of the prices for each column"
   ]
  },
  {
   "cell_type": "code",
   "execution_count": 7,
   "metadata": {},
   "outputs": [
    {
     "data": {
      "image/png": "[encoded data removed]",
      "text/plain": [
       "<Figure size 432x288 with 1 Axes>"
      ]
     },
     "metadata": {
      "needs_background": "light"
     },
     "output_type": "display_data"
    }
   ],
   "source": [
    "# Quick glance at the increase of the Adjusted Close price of INTC\n",
    "hist_INTC[['Close', 'Adj Close']].plot()\n",
    "plt.title('Adjusted Close')\n",
    "plt.show()"
   ]
  },
  {
   "cell_type": "markdown",
   "metadata": {},
   "source": [
    "\n"
   ]
  },
  {
   "cell_type": "markdown",
   "metadata": {},
   "source": [
    "# What Do You See?\n",
    "- The index is already set to datetime series (making the data frame easy to work with during modeling)\n",
    "- The columns will be easy to work with because they all have the data type float\n",
    "- The Max of the viewed stock is fairly high compared to the other prices in the description of the columns (price range that may need to be scaled during the modeling process)\n",
    "- The line plot provides a visual representation of the spick in price! (Later on I will be conducting NLP of documents that could possibly tell us why this happened.... see Q. Quarterly Repository for the beginning stages of this: https://github.com/bmor2552/QQuarterlyInc)\n"
   ]
  },
  {
   "cell_type": "markdown",
   "metadata": {},
   "source": [
    "**Sidenote** Quantitive Analysis for fundamentals:\n",
    "Definition: Fundamentals that can be quatified.\n",
    "- Assets\n",
    "- Liabilities\n",
    "- Revenue, Earnings, Cash Flow, etc...\n",
    "- Ratios (PB, P/E, P/CF, etc.. )\n",
    "\n",
    "**What to focus on:**\n",
    "- Earnings and Net Income\n",
    "Example: If new mangement steps in and the company begins to do better quater after quater this may be a good metric to determine if you should invest into the company before main stream traders grab hold of it!\n",
    "\n",
    "\n",
    "See link for more info on the list provided above: https://www.youtube.com/watch?time_continue=234&v=Ytw_qqgRBOY&feature=emb_logo"
   ]
  },
  {
   "cell_type": "markdown",
   "metadata": {},
   "source": [
    "# Looking at Adjusted Close Prices"
   ]
  },
  {
   "cell_type": "markdown",
   "metadata": {},
   "source": [
    "Now, when it comes to the stock market it is closed for weekends as well as holidays(Which are different from fed holidays). A good reference to use is the SPY. This is because when the SPY trades, then all the stocks are trading. This is also the case when the SPY is not trading. For reference of the correct dates we need for our analysis we will download SPY price history and create a data frame that has the adjusted close prices for the correct days that reflect when the stock market is open.  "
   ]
  },
  {
   "cell_type": "code",
   "execution_count": 8,
   "metadata": {},
   "outputs": [
    {
     "name": "stdout",
     "output_type": "stream",
     "text": [
      "[*********************100%***********************]  1 of 1 completed\n"
     ]
    }
   ],
   "source": [
    "hist_SPY = yf.download('SPY')"
   ]
  },
  {
   "cell_type": "markdown",
   "metadata": {},
   "source": [
    "Now lets create a df that has the adjusted close for all four stock we are interested in: INTC, IFNNY, QCOM, and SPY. To do that we will have to use the ***.join()*** function. "
   ]
  },
  {
   "cell_type": "code",
   "execution_count": 12,
   "metadata": {},
   "outputs": [],
   "source": [
    "# Turning the wanted columns of each stock into a data frame \n",
    "INTC_df = pd.DataFrame(hist_INTC['Adj Close']) \n",
    "IFNNY_df = pd.DataFrame(hist_IFNNY['Adj Close']) \n",
    "QCOM_df = pd.DataFrame(hist_QCOM['Adj Close']) \n",
    "SPY_df = pd.DataFrame(hist_SPY['Adj Close'])"
   ]
  },
  {
   "cell_type": "code",
   "execution_count": 14,
   "metadata": {},
   "outputs": [
    {
     "name": "stdout",
     "output_type": "stream",
     "text": [
      "<class 'pandas.core.frame.DataFrame'>\n",
      "<class 'pandas.core.frame.DataFrame'>\n",
      "<class 'pandas.core.frame.DataFrame'>\n",
      "<class 'pandas.core.frame.DataFrame'>\n"
     ]
    }
   ],
   "source": [
    "# Checking my work \n",
    "print(type(INTC_df))\n",
    "print(type(IFNNY_df))\n",
    "print(type(QCOM_df))\n",
    "print(type(SPY_df))"
   ]
  },
  {
   "cell_type": "code",
   "execution_count": 18,
   "metadata": {},
   "outputs": [],
   "source": [
    "# Changing the column name to its corresponding ticker symbol for each stock\n",
    "INTC_df.rename(columns = {'Adj Close': 'INTC'}, inplace= True )\n",
    "IFNNY_df.rename(columns = {'Adj Close': 'IFNNY'}, inplace= True)\n",
    "QCOM_df.rename(columns = {'Adj Close': 'QCOM'}, inplace= True)\n",
    "SPY_df.rename(columns = {'Adj Close': 'SPY'}, inplace= True)"
   ]
  },
  {
   "cell_type": "code",
   "execution_count": 22,
   "metadata": {},
   "outputs": [],
   "source": [
    "df = pd.concat([SPY_df, INTC_df, IFNNY_df, QCOM_df], axis=1, join='inner') # Joining all four data frames"
   ]
  },
  {
   "cell_type": "code",
   "execution_count": 29,
   "metadata": {},
   "outputs": [
    {
     "data": {
      "text/html": [
       "<div>\n",
       "<style scoped>\n",
       "    .dataframe tbody tr th:only-of-type {\n",
       "        vertical-align: middle;\n",
       "    }\n",
       "\n",
       "    .dataframe tbody tr th {\n",
       "        vertical-align: top;\n",
       "    }\n",
       "\n",
       "    .dataframe thead th {\n",
       "        text-align: right;\n",
       "    }\n",
       "</style>\n",
       "<table border=\"1\" class=\"dataframe\">\n",
       "  <thead>\n",
       "    <tr style=\"text-align: right;\">\n",
       "      <th></th>\n",
       "      <th>SPY</th>\n",
       "      <th>INTC</th>\n",
       "      <th>IFNNY</th>\n",
       "      <th>QCOM</th>\n",
       "    </tr>\n",
       "    <tr>\n",
       "      <th>Date</th>\n",
       "      <th></th>\n",
       "      <th></th>\n",
       "      <th></th>\n",
       "      <th></th>\n",
       "    </tr>\n",
       "  </thead>\n",
       "  <tbody>\n",
       "    <tr>\n",
       "      <td>2000-03-13</td>\n",
       "      <td>94.302399</td>\n",
       "      <td>38.922985</td>\n",
       "      <td>58.987511</td>\n",
       "      <td>45.343166</td>\n",
       "    </tr>\n",
       "    <tr>\n",
       "      <td>2000-03-14</td>\n",
       "      <td>92.962761</td>\n",
       "      <td>37.568447</td>\n",
       "      <td>64.728256</td>\n",
       "      <td>43.579929</td>\n",
       "    </tr>\n",
       "    <tr>\n",
       "      <td>2000-03-15</td>\n",
       "      <td>95.131630</td>\n",
       "      <td>38.305477</td>\n",
       "      <td>59.830185</td>\n",
       "      <td>44.581268</td>\n",
       "    </tr>\n",
       "    <tr>\n",
       "      <td>2000-03-16</td>\n",
       "      <td>99.575645</td>\n",
       "      <td>39.859215</td>\n",
       "      <td>59.514183</td>\n",
       "      <td>46.279194</td>\n",
       "    </tr>\n",
       "    <tr>\n",
       "      <td>2000-03-17</td>\n",
       "      <td>100.233749</td>\n",
       "      <td>41.393044</td>\n",
       "      <td>58.408169</td>\n",
       "      <td>47.454681</td>\n",
       "    </tr>\n",
       "  </tbody>\n",
       "</table>\n",
       "</div>"
      ],
      "text/plain": [
       "                   SPY       INTC      IFNNY       QCOM\n",
       "Date                                                   \n",
       "2000-03-13   94.302399  38.922985  58.987511  45.343166\n",
       "2000-03-14   92.962761  37.568447  64.728256  43.579929\n",
       "2000-03-15   95.131630  38.305477  59.830185  44.581268\n",
       "2000-03-16   99.575645  39.859215  59.514183  46.279194\n",
       "2000-03-17  100.233749  41.393044  58.408169  47.454681"
      ]
     },
     "execution_count": 29,
     "metadata": {},
     "output_type": "execute_result"
    }
   ],
   "source": [
    "df.head() # Checking my work "
   ]
  },
  {
   "cell_type": "code",
   "execution_count": 28,
   "metadata": {
    "scrolled": true
   },
   "outputs": [
    {
     "name": "stdout",
     "output_type": "stream",
     "text": [
      "SPY      0\n",
      "INTC     0\n",
      "IFNNY    0\n",
      "QCOM     0\n",
      "dtype: int64\n"
     ]
    }
   ],
   "source": [
    "df.isnull().sum() # Checking for any missing values"
   ]
  },
  {
   "cell_type": "code",
   "execution_count": 30,
   "metadata": {},
   "outputs": [
    {
     "name": "stdout",
     "output_type": "stream",
     "text": [
      "<class 'pandas.core.frame.DataFrame'>\n",
      "DatetimeIndex: 5121 entries, 2000-03-13 to 2020-07-20\n",
      "Data columns (total 4 columns):\n",
      "SPY      5121 non-null float64\n",
      "INTC     5121 non-null float64\n",
      "IFNNY    5121 non-null float64\n",
      "QCOM     5121 non-null float64\n",
      "dtypes: float64(4)\n",
      "memory usage: 200.0 KB\n"
     ]
    }
   ],
   "source": [
    "df.info() # Details of the data frame"
   ]
  },
  {
   "cell_type": "code",
   "execution_count": 33,
   "metadata": {},
   "outputs": [
    {
     "data": {
      "text/html": [
       "<div>\n",
       "<style scoped>\n",
       "    .dataframe tbody tr th:only-of-type {\n",
       "        vertical-align: middle;\n",
       "    }\n",
       "\n",
       "    .dataframe tbody tr th {\n",
       "        vertical-align: top;\n",
       "    }\n",
       "\n",
       "    .dataframe thead th {\n",
       "        text-align: right;\n",
       "    }\n",
       "</style>\n",
       "<table border=\"1\" class=\"dataframe\">\n",
       "  <thead>\n",
       "    <tr style=\"text-align: right;\">\n",
       "      <th></th>\n",
       "      <th>SPY</th>\n",
       "      <th>INTC</th>\n",
       "      <th>IFNNY</th>\n",
       "      <th>QCOM</th>\n",
       "    </tr>\n",
       "  </thead>\n",
       "  <tbody>\n",
       "    <tr>\n",
       "      <td>count</td>\n",
       "      <td>5121.000000</td>\n",
       "      <td>5121.000000</td>\n",
       "      <td>5121.000000</td>\n",
       "      <td>5121.000000</td>\n",
       "    </tr>\n",
       "    <tr>\n",
       "      <td>mean</td>\n",
       "      <td>137.959098</td>\n",
       "      <td>23.842089</td>\n",
       "      <td>13.717451</td>\n",
       "      <td>39.561876</td>\n",
       "    </tr>\n",
       "    <tr>\n",
       "      <td>std</td>\n",
       "      <td>69.700119</td>\n",
       "      <td>12.720535</td>\n",
       "      <td>10.167539</td>\n",
       "      <td>17.781376</td>\n",
       "    </tr>\n",
       "    <tr>\n",
       "      <td>min</td>\n",
       "      <td>53.947025</td>\n",
       "      <td>8.478086</td>\n",
       "      <td>0.394844</td>\n",
       "      <td>8.271916</td>\n",
       "    </tr>\n",
       "    <tr>\n",
       "      <td>25%</td>\n",
       "      <td>87.068596</td>\n",
       "      <td>15.047172</td>\n",
       "      <td>7.888305</td>\n",
       "      <td>26.633854</td>\n",
       "    </tr>\n",
       "    <tr>\n",
       "      <td>50%</td>\n",
       "      <td>107.026009</td>\n",
       "      <td>18.556349</td>\n",
       "      <td>10.517734</td>\n",
       "      <td>35.874001</td>\n",
       "    </tr>\n",
       "    <tr>\n",
       "      <td>75%</td>\n",
       "      <td>185.075211</td>\n",
       "      <td>29.566643</td>\n",
       "      <td>17.228794</td>\n",
       "      <td>52.135300</td>\n",
       "    </tr>\n",
       "    <tr>\n",
       "      <td>max</td>\n",
       "      <td>334.888397</td>\n",
       "      <td>67.751747</td>\n",
       "      <td>73.576378</td>\n",
       "      <td>94.422256</td>\n",
       "    </tr>\n",
       "  </tbody>\n",
       "</table>\n",
       "</div>"
      ],
      "text/plain": [
       "               SPY         INTC        IFNNY         QCOM\n",
       "count  5121.000000  5121.000000  5121.000000  5121.000000\n",
       "mean    137.959098    23.842089    13.717451    39.561876\n",
       "std      69.700119    12.720535    10.167539    17.781376\n",
       "min      53.947025     8.478086     0.394844     8.271916\n",
       "25%      87.068596    15.047172     7.888305    26.633854\n",
       "50%     107.026009    18.556349    10.517734    35.874001\n",
       "75%     185.075211    29.566643    17.228794    52.135300\n",
       "max     334.888397    67.751747    73.576378    94.422256"
      ]
     },
     "execution_count": 33,
     "metadata": {},
     "output_type": "execute_result"
    }
   ],
   "source": [
    "df.describe() # Checking the statistic of the data frame"
   ]
  },
  {
   "cell_type": "code",
   "execution_count": 43,
   "metadata": {},
   "outputs": [
    {
     "data": {
      "image/png": "[encoded data removed]",
      "text/plain": [
       "<Figure size 432x288 with 1 Axes>"
      ]
     },
     "metadata": {
      "needs_background": "light"
     },
     "output_type": "display_data"
    }
   ],
   "source": [
    "df.plot()\n",
    "plt.title('Stock Prices')\n",
    "plt.xlabel('Date')\n",
    "plt.ylabel('Prices')\n",
    "plt.show() # Quick Visual of the data"
   ]
  },
  {
   "cell_type": "markdown",
   "metadata": {},
   "source": [
    "**Now that we have out data frame, lets get to WORK!!!**\n",
    "# Not So Fast!\n",
    "Before we begin our analysis it is important to normalize our price data. This makes the analyzing process easier by changing the price data range from one that might trick a model into thinking there are outliers (When really one stock is just priced higher than anther) to one that will tell the model that all prices start from one and either increase or decrease from there. \n",
    "\n",
    "*Remember computers are not that smart without human input, so it is important that we make this change to help the models we run properly understand the price range of our stocks.*"
   ]
  },
  {
   "cell_type": "code",
   "execution_count": 48,
   "metadata": {},
   "outputs": [],
   "source": [
    "# Normalize the data aka adjust the scale of stock history\n",
    "df = df/df.iloc[0, :]"
   ]
  },
  {
   "cell_type": "code",
   "execution_count": 50,
   "metadata": {},
   "outputs": [
    {
     "data": {
      "image/png": "[encoded data removed]",
      "text/plain": [
       "<Figure size 432x288 with 1 Axes>"
      ]
     },
     "metadata": {
      "needs_background": "light"
     },
     "output_type": "display_data"
    }
   ],
   "source": [
    "df.plot()\n",
    "plt.title('Stock Prices')\n",
    "plt.xlabel('Date')\n",
    "plt.ylabel('Prices')\n",
    "plt.show()"
   ]
  },
  {
   "cell_type": "markdown",
   "metadata": {},
   "source": [
    "***Can you spot the difference between the first plot and the second one?***\n",
    "The gap between SPY and the other stocks has decreased and the price/ x axis has changed from whole numbers to decimals."
   ]
  },
  {
   "cell_type": "code",
   "execution_count": null,
   "metadata": {},
   "outputs": [],
   "source": []
  }
 ],
 "metadata": {
  "kernelspec": {
   "display_name": "Python 3",
   "language": "python",
   "name": "python3"
  },
  "language_info": {
   "codemirror_mode": {
    "name": "ipython",
    "version": 3
   },
   "file_extension": ".py",
   "mimetype": "text/x-python",
   "name": "python",
   "nbconvert_exporter": "python",
   "pygments_lexer": "ipython3",
   "version": "3.6.9"
  }
 },
 "nbformat": 4,
 "nbformat_minor": 2
}
