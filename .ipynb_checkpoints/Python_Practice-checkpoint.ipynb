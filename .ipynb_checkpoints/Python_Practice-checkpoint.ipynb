{
 "cells": [
  {
   "cell_type": "markdown",
   "metadata": {},
   "source": [
    "## Practicing Python With FreeCodeCamp\n",
    "The purpose of this notebook is to follow along with freecodecamp and the Python 3 courses they have available to the public. In order to perform a proper analysis during my ML development of Todig Co, it is important that I practice coding in python.  "
   ]
  },
  {
   "cell_type": "markdown",
   "metadata": {},
   "source": [
    "## Lesson on Print() Input() and Data Type Convertions\n",
    "This is a program created during a lesson to show how to convert \n",
    "the string that the input function returns to an integer in onrder for \n",
    "the correct floor number to appear. \n",
    "\n",
    "Remember with the input() there will be a pause, \n",
    "in the program below the pause is where a floor number will be entered.\n",
    "After the user presses the enter key 1 will be added to number that was previously \n",
    "entered by the user. The program will stop running and print out what is placed in the print()"
   ]
  },
  {
   "cell_type": "code",
   "execution_count": 2,
   "metadata": {},
   "outputs": [
    {
     "name": "stdout",
     "output_type": "stream",
     "text": [
      "Europe Floor?6\n",
      "US Floor 7\n"
     ]
    }
   ],
   "source": [
    "inp = input('Europe Floor?')\n",
    "usf= int(inp) + 1 \n",
    "print('US Floor', usf)"
   ]
  },
  {
   "cell_type": "markdown",
   "metadata": {},
   "source": [
    "# Lesson on Functions \n",
    "The goal here is to calculate over time! The user will input 45 hours for the hours worked and 10.50 for the hourly rate. Being that the user input was a over 40, for each hour over 40 (in this case 5) the hourly pay wil be increased by 1.5\n",
    "\n",
    "**The Formula for OT:**\n",
    "\n",
    "OT Worked = 45 Hours - 40 Hours\n",
    "\n",
    "Rate = 10.50\n",
    "\n",
    "Regular Pay = 40 Hours or Less Worked * Rate\n",
    "\n",
    "OT Rate = Rate * 1.5\n",
    "\n",
    "OT Pay = OT Rate * OT Worked\n",
    "\n",
    "Users Calculated Pay = OT Pay + Regular Pay\n",
    "\n",
    "***See Function Below***"
   ]
  },
  {
   "cell_type": "code",
   "execution_count": 50,
   "metadata": {},
   "outputs": [
    {
     "name": "stdout",
     "output_type": "stream",
     "text": [
      "Enter Hours: 45\n",
      "Enter Rate Per Hour: 10.50\n",
      "Pay 498.75\n"
     ]
    }
   ],
   "source": [
    "def computepay(h,r):\n",
    "    h = float(h)\n",
    "    r = float(r)\n",
    "    if h > 40:\n",
    "        oth = h - 40\n",
    "        otr = r * 1.5\n",
    "        otp = oth * otr\n",
    "        pay = otp + (40 *r)\n",
    "    elif h <= 40:\n",
    "           pay = (h * r) \n",
    "    return pay   \n",
    "\n",
    "hrs = input(\"Enter Hours: \")\n",
    "rate = input(\"Enter Rate Per Hour: \")\n",
    "p = computepay(hrs,rate)\n",
    "print(\"Pay\",p)"
   ]
  },
  {
   "cell_type": "markdown",
   "metadata": {},
   "source": [
    "One problem I did face with the function above was outside of the function:\n",
    "\n",
    "**hrs = input(\"Enter Hours: \")**\n",
    "\n",
    "**rate = input(\"Enter Rate Per Hour: \")**\n",
    "\n",
    "**p = computepay(hrs,rate)**\n",
    "\n",
    "**print(\"Pay\",p)**\n",
    "\n",
    "I wanted to sovle the problem without googling. Once I knew my function was working properly, I ran to google (after two hours of not using it to solve the problem) and found out how to use the input function within *computepay()* properly, that was the issues the WHOLE TIME.\n",
    "\n",
    "I know seasoned coders are laughing at this, but the goal of this notebook is not only to practice python, but to also improve my logical thinking. Now when I see a problem similar to this I will be able to solve it without google. "
   ]
  },
  {
   "cell_type": "markdown",
   "metadata": {},
   "source": [
    "# Lesson on Loops\n",
    "In this lesson I learned how to build a program that takes in a number, input by the user until the user inputs *\"done\"*. Now, after the numbers have been entered the program will look for the smallest number, save it to a variable and print it out. The program will do the same for the largest number. But if the user enters something that is not a number, *\"Invalid input\"* will display. The lesson taught me how to use *continue*, *break*, and *try* when utilizing *while* and *for* loops.\n",
    "\n",
    "**Sidenote:** ***None*** is a constant that is empty, you can fill with any thing you need to take its place. "
   ]
  },
  {
   "cell_type": "code",
   "execution_count": 29,
   "metadata": {},
   "outputs": [
    {
     "name": "stdout",
     "output_type": "stream",
     "text": [
      "Enter a number: 7\n",
      "Enter a number: 2\n",
      "Enter a number: bob\n",
      "Invalid input\n",
      "Enter a number: 4\n",
      "Enter a number: 10\n",
      "Enter a number: done\n",
      "Maximum is 10\n",
      "Minimum is 2\n"
     ]
    }
   ],
   "source": [
    "largest = None\n",
    "smallest = None\n",
    "while True:\n",
    "    num = input(\"Enter a number: \")\n",
    "    if num == \"done\" : break\n",
    "    try: \n",
    "        num = int(num)\n",
    "    except: \n",
    "        print(\"Invalid input\")\n",
    "        continue\n",
    "    if largest == None:\n",
    "        largest = num\n",
    "    elif num > largest:\n",
    "        largest = num\n",
    "    elif smallest == None:\n",
    "        smallest = num\n",
    "    elif num < smallest:\n",
    "        smallest = num\n",
    "\n",
    "\n",
    "\n",
    "print(\"Maximum is\", largest)\n",
    "print(\"Minimum is\", smallest)"
   ]
  },
  {
   "cell_type": "markdown",
   "metadata": {},
   "source": [
    "# Lesson on Strings and String Slicing\n",
    "In this lesson I was told to retrieve a float that was being held within a string, and turn it into a float. I was taught how to use ***.find()*** while utilizing string slicing via index of items in the string."
   ]
  },
  {
   "cell_type": "code",
   "execution_count": 15,
   "metadata": {},
   "outputs": [
    {
     "name": "stdout",
     "output_type": "stream",
     "text": [
      "23\n",
      "0.8475\n"
     ]
    }
   ],
   "source": [
    "#After finding where the space began, I played wiht the index slcing until I found the index number of 0\n",
    "text = \"X-DSPAM-Confidence:    0.8475\";\n",
    "print(text.find('0'))\n",
    "print(text[23:])"
   ]
  },
  {
   "cell_type": "code",
   "execution_count": 12,
   "metadata": {},
   "outputs": [],
   "source": [
    "# Now lets convert it to a float and assign it to  variable we can recall\n",
    "new_number = float(text[23:])"
   ]
  },
  {
   "cell_type": "code",
   "execution_count": 14,
   "metadata": {},
   "outputs": [
    {
     "name": "stdout",
     "output_type": "stream",
     "text": [
      "<class 'float'>\n"
     ]
    }
   ],
   "source": [
    "new_number\n",
    "print(type(new_number))"
   ]
  },
  {
   "cell_type": "markdown",
   "metadata": {},
   "source": [
    "**The exercise above came easy to me, no struggles to point out.**"
   ]
  },
  {
   "cell_type": "markdown",
   "metadata": {},
   "source": [
    "# Lesson on "
   ]
  },
  {
   "cell_type": "code",
   "execution_count": null,
   "metadata": {},
   "outputs": [],
   "source": []
  }
 ],
 "metadata": {
  "kernelspec": {
   "display_name": "Python 3",
   "language": "python",
   "name": "python3"
  },
  "language_info": {
   "codemirror_mode": {
    "name": "ipython",
    "version": 3
   },
   "file_extension": ".py",
   "mimetype": "text/x-python",
   "name": "python",
   "nbconvert_exporter": "python",
   "pygments_lexer": "ipython3",
   "version": "3.6.9"
  }
 },
 "nbformat": 4,
 "nbformat_minor": 2
}
