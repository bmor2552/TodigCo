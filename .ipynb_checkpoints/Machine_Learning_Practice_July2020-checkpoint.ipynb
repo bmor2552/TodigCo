{
 "cells": [
  {
   "cell_type": "markdown",
   "metadata": {},
   "source": [
    "# Machine Learning Practice\n",
    "The purpose of this notebook is to practice how to analyze NYSE companies using ML. Being that this is a personal interest of mine, I thought it would be fun to continue improving my analysis skills all while I learn how to become a hedge fund manager. \n",
    "\n",
    "It wouldn't be rigth if I didn't create a fictional company to present my findings to you! Ladies and gents, I give you: ***ToDig Co. est. 2015***\n",
    "\n",
    "**Lets get started !!!!!!!!**\n",
    "\n",
    "# Todo List \n",
    "**(Subject To Change)**\n",
    "- Import Required Libraries \n",
    "- Import Stock Price History of Intel Corporation, QUALCOMM, Inc., and Infineon Technologies AG\n"
   ]
  },
  {
   "cell_type": "code",
   "execution_count": 1,
   "metadata": {},
   "outputs": [],
   "source": [
    "# Data Importing and Manipulation\n",
    "import numpy as np\n",
    "import pandas as pd\n",
    "import matplotlib.pyplot as plt\n",
    "import seaborn as sns\n",
    "from statistics import mean\n",
    "\n",
    "# Stock market Data Library\n",
    "import yfinance as yf\n",
    "\n",
    "\n",
    "# Time series handling \n",
    "import datetime\n",
    "from datetime import date\n",
    "\n"
   ]
  },
  {
   "cell_type": "code",
   "execution_count": 8,
   "metadata": {},
   "outputs": [
    {
     "name": "stdout",
     "output_type": "stream",
     "text": [
      "[*********************100%***********************]  1 of 1 completed\n",
      "[*********************100%***********************]  1 of 1 completed\n",
      "[*********************100%***********************]  1 of 1 completed\n"
     ]
    }
   ],
   "source": [
    "# Downloading historical price data for Intel Corporation, QUALCOMM, Inc., and Infineon Technologies AG\n",
    "hist_INTC = yf.download('INTC')\n",
    "hist_IFNNY = yf.download('IFNNY')\n",
    "hist_QCOM = yf.download('QCOM')"
   ]
  },
  {
   "cell_type": "markdown",
   "metadata": {},
   "source": [
    "# Quick Look\n",
    "Now that we have three companie we want to look into, lets quickly glance at one of the companies to see what we have: columns, rows, dataframe size, etc..."
   ]
  },
  {
   "cell_type": "code",
   "execution_count": 9,
   "metadata": {},
   "outputs": [
    {
     "data": {
      "text/html": [
       "<div>\n",
       "<style scoped>\n",
       "    .dataframe tbody tr th:only-of-type {\n",
       "        vertical-align: middle;\n",
       "    }\n",
       "\n",
       "    .dataframe tbody tr th {\n",
       "        vertical-align: top;\n",
       "    }\n",
       "\n",
       "    .dataframe thead th {\n",
       "        text-align: right;\n",
       "    }\n",
       "</style>\n",
       "<table border=\"1\" class=\"dataframe\">\n",
       "  <thead>\n",
       "    <tr style=\"text-align: right;\">\n",
       "      <th></th>\n",
       "      <th>Open</th>\n",
       "      <th>High</th>\n",
       "      <th>Low</th>\n",
       "      <th>Close</th>\n",
       "      <th>Adj Close</th>\n",
       "      <th>Volume</th>\n",
       "    </tr>\n",
       "    <tr>\n",
       "      <th>Date</th>\n",
       "      <th></th>\n",
       "      <th></th>\n",
       "      <th></th>\n",
       "      <th></th>\n",
       "      <th></th>\n",
       "      <th></th>\n",
       "    </tr>\n",
       "  </thead>\n",
       "  <tbody>\n",
       "    <tr>\n",
       "      <td>1980-03-17</td>\n",
       "      <td>0.325521</td>\n",
       "      <td>0.330729</td>\n",
       "      <td>0.325521</td>\n",
       "      <td>0.325521</td>\n",
       "      <td>0.203600</td>\n",
       "      <td>10924800</td>\n",
       "    </tr>\n",
       "    <tr>\n",
       "      <td>1980-03-18</td>\n",
       "      <td>0.325521</td>\n",
       "      <td>0.328125</td>\n",
       "      <td>0.322917</td>\n",
       "      <td>0.322917</td>\n",
       "      <td>0.201971</td>\n",
       "      <td>17068800</td>\n",
       "    </tr>\n",
       "    <tr>\n",
       "      <td>1980-03-19</td>\n",
       "      <td>0.330729</td>\n",
       "      <td>0.335938</td>\n",
       "      <td>0.330729</td>\n",
       "      <td>0.330729</td>\n",
       "      <td>0.206857</td>\n",
       "      <td>18508800</td>\n",
       "    </tr>\n",
       "    <tr>\n",
       "      <td>1980-03-20</td>\n",
       "      <td>0.330729</td>\n",
       "      <td>0.334635</td>\n",
       "      <td>0.329427</td>\n",
       "      <td>0.329427</td>\n",
       "      <td>0.206043</td>\n",
       "      <td>11174400</td>\n",
       "    </tr>\n",
       "    <tr>\n",
       "      <td>1980-03-21</td>\n",
       "      <td>0.322917</td>\n",
       "      <td>0.322917</td>\n",
       "      <td>0.317708</td>\n",
       "      <td>0.317708</td>\n",
       "      <td>0.198713</td>\n",
       "      <td>12172800</td>\n",
       "    </tr>\n",
       "  </tbody>\n",
       "</table>\n",
       "</div>"
      ],
      "text/plain": [
       "                Open      High       Low     Close  Adj Close    Volume\n",
       "Date                                                                   \n",
       "1980-03-17  0.325521  0.330729  0.325521  0.325521   0.203600  10924800\n",
       "1980-03-18  0.325521  0.328125  0.322917  0.322917   0.201971  17068800\n",
       "1980-03-19  0.330729  0.335938  0.330729  0.330729   0.206857  18508800\n",
       "1980-03-20  0.330729  0.334635  0.329427  0.329427   0.206043  11174400\n",
       "1980-03-21  0.322917  0.322917  0.317708  0.317708   0.198713  12172800"
      ]
     },
     "execution_count": 9,
     "metadata": {},
     "output_type": "execute_result"
    }
   ],
   "source": [
    "hist_INTC.head() # Preview of the imported data"
   ]
  },
  {
   "cell_type": "code",
   "execution_count": 10,
   "metadata": {},
   "outputs": [
    {
     "name": "stdout",
     "output_type": "stream",
     "text": [
      "<class 'pandas.core.frame.DataFrame'>\n",
      "DatetimeIndex: 10169 entries, 1980-03-17 to 2020-07-14\n",
      "Data columns (total 6 columns):\n",
      "Open         10169 non-null float64\n",
      "High         10169 non-null float64\n",
      "Low          10169 non-null float64\n",
      "Close        10169 non-null float64\n",
      "Adj Close    10169 non-null float64\n",
      "Volume       10169 non-null int64\n",
      "dtypes: float64(5), int64(1)\n",
      "memory usage: 556.1 KB\n"
     ]
    }
   ],
   "source": [
    "hist_INTC.info() # Previewing data types of the colums "
   ]
  },
  {
   "cell_type": "code",
   "execution_count": 11,
   "metadata": {},
   "outputs": [
    {
     "data": {
      "text/plain": [
       "pandas.core.indexes.datetimes.DatetimeIndex"
      ]
     },
     "execution_count": 11,
     "metadata": {},
     "output_type": "execute_result"
    }
   ],
   "source": [
    "type(hist_INTC.index) # Prviewing the data type of the index of the data frame to see if it needs to be converted"
   ]
  },
  {
   "cell_type": "code",
   "execution_count": 12,
   "metadata": {},
   "outputs": [
    {
     "data": {
      "text/html": [
       "<div>\n",
       "<style scoped>\n",
       "    .dataframe tbody tr th:only-of-type {\n",
       "        vertical-align: middle;\n",
       "    }\n",
       "\n",
       "    .dataframe tbody tr th {\n",
       "        vertical-align: top;\n",
       "    }\n",
       "\n",
       "    .dataframe thead th {\n",
       "        text-align: right;\n",
       "    }\n",
       "</style>\n",
       "<table border=\"1\" class=\"dataframe\">\n",
       "  <thead>\n",
       "    <tr style=\"text-align: right;\">\n",
       "      <th></th>\n",
       "      <th>Open</th>\n",
       "      <th>High</th>\n",
       "      <th>Low</th>\n",
       "      <th>Close</th>\n",
       "      <th>Adj Close</th>\n",
       "      <th>Volume</th>\n",
       "    </tr>\n",
       "  </thead>\n",
       "  <tbody>\n",
       "    <tr>\n",
       "      <td>count</td>\n",
       "      <td>10169.000000</td>\n",
       "      <td>10169.000000</td>\n",
       "      <td>10169.000000</td>\n",
       "      <td>10169.000000</td>\n",
       "      <td>10169.000000</td>\n",
       "      <td>1.016900e+04</td>\n",
       "    </tr>\n",
       "    <tr>\n",
       "      <td>mean</td>\n",
       "      <td>18.064362</td>\n",
       "      <td>18.315523</td>\n",
       "      <td>17.817311</td>\n",
       "      <td>18.064999</td>\n",
       "      <td>13.883594</td>\n",
       "      <td>5.158236e+07</td>\n",
       "    </tr>\n",
       "    <tr>\n",
       "      <td>std</td>\n",
       "      <td>16.427851</td>\n",
       "      <td>16.665634</td>\n",
       "      <td>16.200386</td>\n",
       "      <td>16.429958</td>\n",
       "      <td>14.196164</td>\n",
       "      <td>3.553409e+07</td>\n",
       "    </tr>\n",
       "    <tr>\n",
       "      <td>min</td>\n",
       "      <td>0.218750</td>\n",
       "      <td>0.218750</td>\n",
       "      <td>0.216146</td>\n",
       "      <td>0.216146</td>\n",
       "      <td>0.135190</td>\n",
       "      <td>0.000000e+00</td>\n",
       "    </tr>\n",
       "    <tr>\n",
       "      <td>25%</td>\n",
       "      <td>1.148438</td>\n",
       "      <td>1.171875</td>\n",
       "      <td>1.125000</td>\n",
       "      <td>1.156250</td>\n",
       "      <td>0.723187</td>\n",
       "      <td>2.733200e+07</td>\n",
       "    </tr>\n",
       "    <tr>\n",
       "      <td>50%</td>\n",
       "      <td>19.350000</td>\n",
       "      <td>19.590000</td>\n",
       "      <td>19.120001</td>\n",
       "      <td>19.360001</td>\n",
       "      <td>12.916762</td>\n",
       "      <td>4.598720e+07</td>\n",
       "    </tr>\n",
       "    <tr>\n",
       "      <td>75%</td>\n",
       "      <td>27.590000</td>\n",
       "      <td>27.910000</td>\n",
       "      <td>27.200001</td>\n",
       "      <td>27.570000</td>\n",
       "      <td>19.612066</td>\n",
       "      <td>6.614660e+07</td>\n",
       "    </tr>\n",
       "    <tr>\n",
       "      <td>max</td>\n",
       "      <td>75.625000</td>\n",
       "      <td>75.828125</td>\n",
       "      <td>73.625000</td>\n",
       "      <td>74.875000</td>\n",
       "      <td>67.751747</td>\n",
       "      <td>5.677088e+08</td>\n",
       "    </tr>\n",
       "  </tbody>\n",
       "</table>\n",
       "</div>"
      ],
      "text/plain": [
       "               Open          High           Low         Close     Adj Close  \\\n",
       "count  10169.000000  10169.000000  10169.000000  10169.000000  10169.000000   \n",
       "mean      18.064362     18.315523     17.817311     18.064999     13.883594   \n",
       "std       16.427851     16.665634     16.200386     16.429958     14.196164   \n",
       "min        0.218750      0.218750      0.216146      0.216146      0.135190   \n",
       "25%        1.148438      1.171875      1.125000      1.156250      0.723187   \n",
       "50%       19.350000     19.590000     19.120001     19.360001     12.916762   \n",
       "75%       27.590000     27.910000     27.200001     27.570000     19.612066   \n",
       "max       75.625000     75.828125     73.625000     74.875000     67.751747   \n",
       "\n",
       "             Volume  \n",
       "count  1.016900e+04  \n",
       "mean   5.158236e+07  \n",
       "std    3.553409e+07  \n",
       "min    0.000000e+00  \n",
       "25%    2.733200e+07  \n",
       "50%    4.598720e+07  \n",
       "75%    6.614660e+07  \n",
       "max    5.677088e+08  "
      ]
     },
     "execution_count": 12,
     "metadata": {},
     "output_type": "execute_result"
    }
   ],
   "source": [
    "hist_INTC.describe() # Previewing the stats of the prices for each column"
   ]
  },
  {
   "cell_type": "code",
   "execution_count": 13,
   "metadata": {},
   "outputs": [
    {
     "data": {
      "image/png": "[encoded data removed]",
      "text/plain": [
       "<Figure size 432x288 with 1 Axes>"
      ]
     },
     "metadata": {
      "needs_background": "light"
     },
     "output_type": "display_data"
    }
   ],
   "source": [
    "# Quick glance at the increase of the Adjusted Close price of APPL\n",
    "hist_INTC[['Close', 'Adj Close']].plot()\n",
    "plt.title('Adjusted Close')\n",
    "plt.show()"
   ]
  },
  {
   "cell_type": "markdown",
   "metadata": {},
   "source": [
    "\n"
   ]
  },
  {
   "cell_type": "code",
   "execution_count": null,
   "metadata": {},
   "outputs": [],
   "source": []
  },
  {
   "cell_type": "code",
   "execution_count": null,
   "metadata": {},
   "outputs": [],
   "source": []
  }
 ],
 "metadata": {
  "kernelspec": {
   "display_name": "Python 3",
   "language": "python",
   "name": "python3"
  },
  "language_info": {
   "codemirror_mode": {
    "name": "ipython",
    "version": 3
   },
   "file_extension": ".py",
   "mimetype": "text/x-python",
   "name": "python",
   "nbconvert_exporter": "python",
   "pygments_lexer": "ipython3",
   "version": "3.6.9"
  }
 },
 "nbformat": 4,
 "nbformat_minor": 2
}
