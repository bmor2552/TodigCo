{
 "cells": [
  {
   "cell_type": "markdown",
   "metadata": {},
   "source": [
    "# Machine Learning Practice\n",
    "The purpose of this notebook is to practice how to analyze NYSE companies using ML. Being that this is a personal interest of mine, I thought it would be fun to continue improving my analysis skills all while I learn how to become a hedge fund manager. \n",
    "\n",
    "It wouldn't be rigth if I didn't create a fictional company to present my findings to you! Ladies and gents, I give you: ***ToDig Co. est. 2015***\n",
    "\n",
    "**Lets get started !!!!!!!!**\n",
    "\n",
    "# Todo List \n",
    "**(Subject To Change)**\n",
    "- Import Required Libraries \n",
    "- Import Stock Price History of APPL (Apple Inc.)\n"
   ]
  },
  {
   "cell_type": "code",
   "execution_count": 1,
   "metadata": {},
   "outputs": [],
   "source": [
    "# Data Importing and Manipulation\n",
    "import numpy as np\n",
    "import pandas as pd\n",
    "import matplotlib.pyplot as plt\n",
    "import seaborn as sns\n",
    "from statistics import mean\n",
    "\n",
    "# Stock market Data Library\n",
    "import yfinance as yf\n",
    "\n",
    "\n",
    "# Time series handling \n",
    "import datetime\n",
    "from datetime import date\n",
    "\n"
   ]
  },
  {
   "cell_type": "code",
   "execution_count": 2,
   "metadata": {},
   "outputs": [
    {
     "name": "stdout",
     "output_type": "stream",
     "text": [
      "[*********************100%***********************]  1 of 1 completed\n"
     ]
    }
   ],
   "source": [
    "# Downloading historical price data for AAPL\n",
    "hist_AAPL = yf.download('AAPL')"
   ]
  },
  {
   "cell_type": "code",
   "execution_count": 3,
   "metadata": {},
   "outputs": [
    {
     "data": {
      "text/html": [
       "<div>\n",
       "<style scoped>\n",
       "    .dataframe tbody tr th:only-of-type {\n",
       "        vertical-align: middle;\n",
       "    }\n",
       "\n",
       "    .dataframe tbody tr th {\n",
       "        vertical-align: top;\n",
       "    }\n",
       "\n",
       "    .dataframe thead th {\n",
       "        text-align: right;\n",
       "    }\n",
       "</style>\n",
       "<table border=\"1\" class=\"dataframe\">\n",
       "  <thead>\n",
       "    <tr style=\"text-align: right;\">\n",
       "      <th></th>\n",
       "      <th>Open</th>\n",
       "      <th>High</th>\n",
       "      <th>Low</th>\n",
       "      <th>Close</th>\n",
       "      <th>Adj Close</th>\n",
       "      <th>Volume</th>\n",
       "    </tr>\n",
       "    <tr>\n",
       "      <th>Date</th>\n",
       "      <th></th>\n",
       "      <th></th>\n",
       "      <th></th>\n",
       "      <th></th>\n",
       "      <th></th>\n",
       "      <th></th>\n",
       "    </tr>\n",
       "  </thead>\n",
       "  <tbody>\n",
       "    <tr>\n",
       "      <td>1980-12-12</td>\n",
       "      <td>0.513393</td>\n",
       "      <td>0.515625</td>\n",
       "      <td>0.513393</td>\n",
       "      <td>0.513393</td>\n",
       "      <td>0.405683</td>\n",
       "      <td>117258400</td>\n",
       "    </tr>\n",
       "    <tr>\n",
       "      <td>1980-12-15</td>\n",
       "      <td>0.488839</td>\n",
       "      <td>0.488839</td>\n",
       "      <td>0.486607</td>\n",
       "      <td>0.486607</td>\n",
       "      <td>0.384517</td>\n",
       "      <td>43971200</td>\n",
       "    </tr>\n",
       "    <tr>\n",
       "      <td>1980-12-16</td>\n",
       "      <td>0.453125</td>\n",
       "      <td>0.453125</td>\n",
       "      <td>0.450893</td>\n",
       "      <td>0.450893</td>\n",
       "      <td>0.356296</td>\n",
       "      <td>26432000</td>\n",
       "    </tr>\n",
       "    <tr>\n",
       "      <td>1980-12-17</td>\n",
       "      <td>0.462054</td>\n",
       "      <td>0.464286</td>\n",
       "      <td>0.462054</td>\n",
       "      <td>0.462054</td>\n",
       "      <td>0.365115</td>\n",
       "      <td>21610400</td>\n",
       "    </tr>\n",
       "    <tr>\n",
       "      <td>1980-12-18</td>\n",
       "      <td>0.475446</td>\n",
       "      <td>0.477679</td>\n",
       "      <td>0.475446</td>\n",
       "      <td>0.475446</td>\n",
       "      <td>0.375698</td>\n",
       "      <td>18362400</td>\n",
       "    </tr>\n",
       "  </tbody>\n",
       "</table>\n",
       "</div>"
      ],
      "text/plain": [
       "                Open      High       Low     Close  Adj Close     Volume\n",
       "Date                                                                    \n",
       "1980-12-12  0.513393  0.515625  0.513393  0.513393   0.405683  117258400\n",
       "1980-12-15  0.488839  0.488839  0.486607  0.486607   0.384517   43971200\n",
       "1980-12-16  0.453125  0.453125  0.450893  0.450893   0.356296   26432000\n",
       "1980-12-17  0.462054  0.464286  0.462054  0.462054   0.365115   21610400\n",
       "1980-12-18  0.475446  0.477679  0.475446  0.475446   0.375698   18362400"
      ]
     },
     "execution_count": 3,
     "metadata": {},
     "output_type": "execute_result"
    }
   ],
   "source": [
    "hist_AAPL.head() # Preview of the imported data"
   ]
  },
  {
   "cell_type": "code",
   "execution_count": 4,
   "metadata": {},
   "outputs": [
    {
     "name": "stdout",
     "output_type": "stream",
     "text": [
      "<class 'pandas.core.frame.DataFrame'>\n",
      "DatetimeIndex: 9976 entries, 1980-12-12 to 2020-07-08\n",
      "Data columns (total 6 columns):\n",
      "Open         9976 non-null float64\n",
      "High         9976 non-null float64\n",
      "Low          9976 non-null float64\n",
      "Close        9976 non-null float64\n",
      "Adj Close    9976 non-null float64\n",
      "Volume       9976 non-null int64\n",
      "dtypes: float64(5), int64(1)\n",
      "memory usage: 545.6 KB\n"
     ]
    }
   ],
   "source": [
    "hist_AAPL.info() # Previewing data types of the colums "
   ]
  },
  {
   "cell_type": "code",
   "execution_count": 6,
   "metadata": {},
   "outputs": [
    {
     "data": {
      "text/plain": [
       "pandas.core.indexes.datetimes.DatetimeIndex"
      ]
     },
     "execution_count": 6,
     "metadata": {},
     "output_type": "execute_result"
    }
   ],
   "source": [
    "type(hist_AAPL.index) # Prviewing the data type of the index of the data frame to see if it needs to be converted"
   ]
  },
  {
   "cell_type": "code",
   "execution_count": 10,
   "metadata": {},
   "outputs": [
    {
     "data": {
      "text/html": [
       "<div>\n",
       "<style scoped>\n",
       "    .dataframe tbody tr th:only-of-type {\n",
       "        vertical-align: middle;\n",
       "    }\n",
       "\n",
       "    .dataframe tbody tr th {\n",
       "        vertical-align: top;\n",
       "    }\n",
       "\n",
       "    .dataframe thead th {\n",
       "        text-align: right;\n",
       "    }\n",
       "</style>\n",
       "<table border=\"1\" class=\"dataframe\">\n",
       "  <thead>\n",
       "    <tr style=\"text-align: right;\">\n",
       "      <th></th>\n",
       "      <th>Open</th>\n",
       "      <th>High</th>\n",
       "      <th>Low</th>\n",
       "      <th>Close</th>\n",
       "      <th>Adj Close</th>\n",
       "      <th>Volume</th>\n",
       "    </tr>\n",
       "  </thead>\n",
       "  <tbody>\n",
       "    <tr>\n",
       "      <td>count</td>\n",
       "      <td>9976.000000</td>\n",
       "      <td>9976.000000</td>\n",
       "      <td>9976.000000</td>\n",
       "      <td>9976.000000</td>\n",
       "      <td>9976.000000</td>\n",
       "      <td>9.976000e+03</td>\n",
       "    </tr>\n",
       "    <tr>\n",
       "      <td>mean</td>\n",
       "      <td>34.500353</td>\n",
       "      <td>34.856718</td>\n",
       "      <td>34.151639</td>\n",
       "      <td>34.518328</td>\n",
       "      <td>32.406702</td>\n",
       "      <td>8.549594e+07</td>\n",
       "    </tr>\n",
       "    <tr>\n",
       "      <td>std</td>\n",
       "      <td>62.673818</td>\n",
       "      <td>63.337398</td>\n",
       "      <td>62.093438</td>\n",
       "      <td>62.755312</td>\n",
       "      <td>61.078756</td>\n",
       "      <td>8.578225e+07</td>\n",
       "    </tr>\n",
       "    <tr>\n",
       "      <td>min</td>\n",
       "      <td>0.198661</td>\n",
       "      <td>0.198661</td>\n",
       "      <td>0.196429</td>\n",
       "      <td>0.196429</td>\n",
       "      <td>0.155218</td>\n",
       "      <td>3.472000e+05</td>\n",
       "    </tr>\n",
       "    <tr>\n",
       "      <td>25%</td>\n",
       "      <td>1.077500</td>\n",
       "      <td>1.098214</td>\n",
       "      <td>1.053571</td>\n",
       "      <td>1.075893</td>\n",
       "      <td>0.918721</td>\n",
       "      <td>3.293290e+07</td>\n",
       "    </tr>\n",
       "    <tr>\n",
       "      <td>50%</td>\n",
       "      <td>1.741071</td>\n",
       "      <td>1.776250</td>\n",
       "      <td>1.705357</td>\n",
       "      <td>1.744286</td>\n",
       "      <td>1.471641</td>\n",
       "      <td>5.732370e+07</td>\n",
       "    </tr>\n",
       "    <tr>\n",
       "      <td>75%</td>\n",
       "      <td>37.580359</td>\n",
       "      <td>37.835714</td>\n",
       "      <td>37.180356</td>\n",
       "      <td>37.436070</td>\n",
       "      <td>32.408304</td>\n",
       "      <td>1.066431e+08</td>\n",
       "    </tr>\n",
       "    <tr>\n",
       "      <td>max</td>\n",
       "      <td>376.720001</td>\n",
       "      <td>381.470001</td>\n",
       "      <td>376.359985</td>\n",
       "      <td>381.369995</td>\n",
       "      <td>381.369995</td>\n",
       "      <td>1.855410e+09</td>\n",
       "    </tr>\n",
       "  </tbody>\n",
       "</table>\n",
       "</div>"
      ],
      "text/plain": [
       "              Open         High          Low        Close    Adj Close  \\\n",
       "count  9976.000000  9976.000000  9976.000000  9976.000000  9976.000000   \n",
       "mean     34.500353    34.856718    34.151639    34.518328    32.406702   \n",
       "std      62.673818    63.337398    62.093438    62.755312    61.078756   \n",
       "min       0.198661     0.198661     0.196429     0.196429     0.155218   \n",
       "25%       1.077500     1.098214     1.053571     1.075893     0.918721   \n",
       "50%       1.741071     1.776250     1.705357     1.744286     1.471641   \n",
       "75%      37.580359    37.835714    37.180356    37.436070    32.408304   \n",
       "max     376.720001   381.470001   376.359985   381.369995   381.369995   \n",
       "\n",
       "             Volume  \n",
       "count  9.976000e+03  \n",
       "mean   8.549594e+07  \n",
       "std    8.578225e+07  \n",
       "min    3.472000e+05  \n",
       "25%    3.293290e+07  \n",
       "50%    5.732370e+07  \n",
       "75%    1.066431e+08  \n",
       "max    1.855410e+09  "
      ]
     },
     "execution_count": 10,
     "metadata": {},
     "output_type": "execute_result"
    }
   ],
   "source": [
    "hist_AAPL.describe() # Previewing the stats of the prices for each column"
   ]
  },
  {
   "cell_type": "code",
   "execution_count": 15,
   "metadata": {},
   "outputs": [
    {
     "data": {
      "image/png": "[encoded data removed]",
      "text/plain": [
       "<Figure size 432x288 with 1 Axes>"
      ]
     },
     "metadata": {
      "needs_background": "light"
     },
     "output_type": "display_data"
    }
   ],
   "source": [
    "# Quick glance at the increase of the Adjusted Close price of APPL\n",
    "hist_AAPL['Adj Close'].plot()\n",
    "plt.title('Adjusted Close')\n",
    "plt.show()"
   ]
  },
  {
   "cell_type": "code",
   "execution_count": null,
   "metadata": {},
   "outputs": [],
   "source": []
  }
 ],
 "metadata": {
  "kernelspec": {
   "display_name": "Python 3",
   "language": "python",
   "name": "python3"
  },
  "language_info": {
   "codemirror_mode": {
    "name": "ipython",
    "version": 3
   },
   "file_extension": ".py",
   "mimetype": "text/x-python",
   "name": "python",
   "nbconvert_exporter": "python",
   "pygments_lexer": "ipython3",
   "version": "3.6.9"
  }
 },
 "nbformat": 4,
 "nbformat_minor": 2
}
