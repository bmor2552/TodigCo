{
 "cells": [
  {
   "cell_type": "markdown",
   "metadata": {},
   "source": [
    "## Practicing Python With FreeCodeCamp\n",
    "The purpose of this notebook is to follow along with freecodecamp and the Python 3 courses they have available to the public. In order to perform a proper analysis during my ML development of Todig Co, it is important that I practice coding in python.  "
   ]
  },
  {
   "cell_type": "markdown",
   "metadata": {},
   "source": [
    "## Lesson on Print() Input() and Data Type Convertions"
   ]
  },
  {
   "cell_type": "code",
   "execution_count": 2,
   "metadata": {},
   "outputs": [
    {
     "name": "stdout",
     "output_type": "stream",
     "text": [
      "Europe Floor?6\n",
      "US Floor 7\n"
     ]
    }
   ],
   "source": [
    "'''This is a program created during a lesson to show how to convert \n",
    "the string that the input function returns to an integer in onrder for \n",
    "the correct floor number to appear. \n",
    "\n",
    "Remember with the input() there will be a pause, \n",
    "in the program below the pause is where a floor number will be entered.\n",
    "After the user presses the enter key 1 will be added to number that was previously \n",
    "entered by the user. The program will stop running and print out what is placed in the print()'''\n",
    "\n",
    "inp = input('Europe Floor?')\n",
    "usf= int(inp) + 1 \n",
    "print('US Floor', usf)"
   ]
  },
  {
   "cell_type": "code",
   "execution_count": null,
   "metadata": {},
   "outputs": [],
   "source": []
  },
  {
   "cell_type": "code",
   "execution_count": null,
   "metadata": {},
   "outputs": [],
   "source": []
  },
  {
   "cell_type": "code",
   "execution_count": null,
   "metadata": {},
   "outputs": [],
   "source": []
  }
 ],
 "metadata": {
  "kernelspec": {
   "display_name": "Python 3",
   "language": "python",
   "name": "python3"
  },
  "language_info": {
   "codemirror_mode": {
    "name": "ipython",
    "version": 3
   },
   "file_extension": ".py",
   "mimetype": "text/x-python",
   "name": "python",
   "nbconvert_exporter": "python",
   "pygments_lexer": "ipython3",
   "version": "3.6.9"
  }
 },
 "nbformat": 4,
 "nbformat_minor": 2
}
